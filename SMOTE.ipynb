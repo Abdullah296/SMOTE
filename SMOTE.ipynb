{
 "cells": [
  {
   "cell_type": "code",
   "execution_count": 1,
   "metadata": {},
   "outputs": [
    {
     "name": "stdout",
     "output_type": "stream",
     "text": [
      "55\n"
     ]
    }
   ],
   "source": [
    "#SMOTE\n",
    "\n",
    "# Read whole images\n",
    "# be careful, your images dimensions must be same\n",
    "# In my dataset, 0-114 images are of dimension 1488, 2240, 3\n",
    "\n",
    "# but 115 images contain both left and right images\n",
    "# when we give both images to Algorithm, it will return such image which have circle(ball) part on both sides.\n",
    "\n",
    "# to get rid of it, I seperate out left and right images in a seperate folder\n",
    "\n",
    "import glob\n",
    "import cv2\n",
    "\n",
    "images = [cv2.imread(file) for file in glob.glob(\"D:/FYP/Messidor/Set_L/*.png\")]\n",
    "\n",
    "print(len(images))\n",
    "\n"
   ]
  },
  {
   "cell_type": "code",
   "execution_count": 2,
   "metadata": {},
   "outputs": [
    {
     "name": "stdout",
     "output_type": "stream",
     "text": [
      "(55, 1488, 2240, 3)\n"
     ]
    }
   ],
   "source": [
    "### 55 images of dimension 1488,2240,3)\n",
    "\n",
    "import numpy\n",
    "Image = numpy.array((images))\n",
    "\n",
    "print(Image.shape)"
   ]
  },
  {
   "cell_type": "code",
   "execution_count": 3,
   "metadata": {},
   "outputs": [],
   "source": [
    "## Now SMOTE will take 1D sample\n",
    "## N sample mean 2d Sample\n",
    "\n",
    "## reshape our image into 2d\n",
    "##  55 * (1488 * 2240 * 3)\n",
    "## it becomes 55 * 9999360\n",
    "\n",
    "R_Image = Image.reshape(Image.shape[0],-1)\n"
   ]
  },
  {
   "cell_type": "code",
   "execution_count": 4,
   "metadata": {},
   "outputs": [
    {
     "name": "stdout",
     "output_type": "stream",
     "text": [
      "(55, 9999360)\n"
     ]
    }
   ],
   "source": [
    "print(R_Image.shape)"
   ]
  },
  {
   "cell_type": "code",
   "execution_count": 14,
   "metadata": {},
   "outputs": [
    {
     "name": "stdout",
     "output_type": "stream",
     "text": [
      "(55,)\n"
     ]
    }
   ],
   "source": [
    "## Give label of that images\n",
    "\n",
    "\n",
    "label = numpy.array((0,1,0,0,0,0,1,2,0,3,4,3,3,1,0,2,3,0,2,0,4,2,0,0,4,0,2,1,0,0,0,1,2,2,0,2,1,2,0,1,2,4,0,2,2,0,3,0,0,2,0,3,2,4,0))\n",
    "print(label.shape)"
   ]
  },
  {
   "cell_type": "code",
   "execution_count": 16,
   "metadata": {},
   "outputs": [
    {
     "name": "stdout",
     "output_type": "stream",
     "text": [
      "(115, 9999360)\n",
      "[0 1 0 0 0 0 1 2 0 3 4 3 3 1 0 2 3 0 2 0 4 2 0 0 4 0 2 1 0 0 0 1 2 2 0 2 1\n",
      " 2 0 1 2 4 0 2 2 0 3 0 0 2 0 3 2 4 0 1 1 1 1 1 1 1 1 1 1 1 1 1 1 1 1 2 2 2\n",
      " 2 2 2 2 2 2 3 3 3 3 3 3 3 3 3 3 3 3 3 3 3 3 3 4 4 4 4 4 4 4 4 4 4 4 4 4 4\n",
      " 4 4 4 4]\n"
     ]
    }
   ],
   "source": [
    "## import imblearn library\n",
    "## tell boundaries to algorithm, 5 classes means 4 boundary\n",
    "\n",
    "from imblearn.over_sampling import SMOTE\n",
    "\n",
    "sm = SMOTE(k_neighbors=4)\n",
    "X_smote, y_smote = sm.fit_resample(R_Image, label)\n",
    "\n",
    "print(X_smote.shape)\n",
    "print(y_smote.count)\n",
    "\n",
    "\n",
    "## it return 115 images from 55 "
   ]
  },
  {
   "cell_type": "code",
   "execution_count": 22,
   "metadata": {},
   "outputs": [
    {
     "data": {
      "text/plain": [
       "{0: 23, 1: 23, 2: 23, 3: 23, 4: 23}"
      ]
     },
     "execution_count": 22,
     "metadata": {},
     "output_type": "execute_result"
    }
   ],
   "source": [
    "## count unique\n",
    "\n",
    "unique, counts = numpy.unique(y_smote, return_counts=True)\n",
    "dict(zip(unique, counts))\n"
   ]
  },
  {
   "cell_type": "code",
   "execution_count": 20,
   "metadata": {},
   "outputs": [
    {
     "name": "stdout",
     "output_type": "stream",
     "text": [
      "(115, 1488, 2240, 3)\n"
     ]
    }
   ],
   "source": [
    "## Resample  the image into 3d\n",
    "Output = X_smote.reshape(X_smote.shape[0],Image.shape[1],Image.shape[2],Image.shape[3])\n",
    "\n",
    "print(Output.shape)"
   ]
  },
  {
   "cell_type": "code",
   "execution_count": 23,
   "metadata": {},
   "outputs": [],
   "source": [
    "# Writing the images into folder\n",
    "for i in range(0, Output.shape[0]):\n",
    "    cv2.imwrite(\"D:/FYP/Messidor/Set_L_Output/\"+str(i)+\".png\", Output[i,:,:,:])\n"
   ]
  },
  {
   "cell_type": "code",
   "execution_count": null,
   "metadata": {},
   "outputs": [],
   "source": []
  }
 ],
 "metadata": {
  "kernelspec": {
   "display_name": "Python 3",
   "language": "python",
   "name": "python3"
  },
  "language_info": {
   "codemirror_mode": {
    "name": "ipython",
    "version": 3
   },
   "file_extension": ".py",
   "mimetype": "text/x-python",
   "name": "python",
   "nbconvert_exporter": "python",
   "pygments_lexer": "ipython3",
   "version": "3.7.4"
  }
 },
 "nbformat": 4,
 "nbformat_minor": 2
}
